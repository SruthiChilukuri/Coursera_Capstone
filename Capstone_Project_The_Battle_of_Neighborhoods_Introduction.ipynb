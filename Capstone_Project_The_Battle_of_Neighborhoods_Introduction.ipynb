{
  "nbformat": 4,
  "nbformat_minor": 0,
  "metadata": {
    "colab": {
      "name": "Capstone Project - The Battle of Neighborhoods-Introduction",
      "provenance": []
    },
    "kernelspec": {
      "name": "python3",
      "display_name": "Python 3"
    }
  },
  "cells": [
    {
      "cell_type": "markdown",
      "metadata": {
        "id": "hfYeIZPymij-"
      },
      "source": [
        "##INTRODUCTION\r\n",
        "\r\n",
        "* New york is the most populated and popular state among the US. It is also the financial captial when it comes to revenue generation.\r\n",
        "\r\n",
        "* The city is a major center for banking and finance, retailing, world trade, transportation, tourism, real estate, new media, traditional media, advertising, legal services, accountancy, insurance, theater, fashion, and the arts in the United States. This also means that the market is highly competitive.\r\n",
        "\r\n",
        "* As it is highly developed city so cost of doing business is also one of the highest. Thus, any new business venture or expansion needs to be analysed carefully.\r\n",
        "\r\n",
        "* The insights derived from analysis will give good understanding of the business environment which help in strategically targeting the market. This will help in reduction of risk. And the Return on Investment will be reasonable."
      ]
    },
    {
      "cell_type": "markdown",
      "metadata": {
        "id": "Ih--tPmxnGJ9"
      },
      "source": [
        "## BUSINESS PROBLEM\r\n",
        "\r\n",
        "* The City of New York is famous for its excelllent cuisine. It's food culture includes an array of international cuisines influenced by the city's immigrant history\r\n",
        "\r\n",
        "* Sushi restaurants have become so popular in the United States now it seems that there is one on every corner, not only in major cities but also in smaller cities.\r\n",
        "\r\n",
        "* Starting a sushi restaurant can be a great business opportunity, but you need to distinguish yourself from others to enjoy long-term success."
      ]
    },
    {
      "cell_type": "markdown",
      "metadata": {
        "id": "1d6MUfk6n07U"
      },
      "source": [
        "## FINDING A BEST LOCATION TO SETUP THE SUSHI RESTAURANT\r\n",
        "* If you plan a real restaurant that can demand higher prices for fresh fish, delivered daily from Japan, focus on neighborhoods and outlets that already attract a sophisticated Japanese client.\r\n",
        "\r\n",
        "*  If you plan a cheap buffet restaurant, points to the masses looking for affordable high-traffic locations with large shopping centers and other local points of interest.\r\n",
        "\r\n",
        "* So it is evident that to survive in such competitive market it is very important to startegically plan. Various factors need to be studied inorder to decide on the Location"
      ]
    },
    {
      "cell_type": "markdown",
      "metadata": {
        "id": "ZZ_-q3TdoYdk"
      },
      "source": [
        "## TARGET AUDIENCE\r\n",
        "\r\n",
        "* My Client wants to open his business in Manhattan area, so I only focus on that borough during my analysis.\r\n",
        "\r\n",
        "* The objective is to locate and recommend to the management which neighborhood of Newyork city will be best choice to start a restaurant.\r\n",
        "\r\n",
        "* The Management also expects to understand the rationale of the recommendations made."
      ]
    }
  ]
}