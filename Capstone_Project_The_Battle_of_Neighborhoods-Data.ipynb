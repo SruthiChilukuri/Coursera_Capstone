{
  "nbformat": 4,
  "nbformat_minor": 0,
  "metadata": {
    "colab": {
      "name": "Capstone Project - The Battle of Neighborhoods- Data",
      "provenance": []
    },
    "kernelspec": {
      "name": "python3",
      "display_name": "Python 3"
    }
  },
  "cells": [
    {
      "cell_type": "markdown",
      "metadata": {
        "id": "eWa-nV3WpnaL"
      },
      "source": [
        "##DATA\r\n",
        "* Data Link: https://en.wikipedia.org/wiki/List_of_postal_codes_of_Canada:_M\r\n",
        "I will use Scarborough dataset which we scrapped from Wikipedia on Week 3. Dataset consisting of latitude and longitude, zip codes.\r\n",
        "\r\n",
        "###Foursquare API Data:\r\n",
        "\r\n",
        "* We will need data about different venues in different neighbourhoods of that specific borough. \r\n",
        "* In order to gain that information we will use \"Foursquare\" location information. \r\n",
        "* Foursquare is a location data provider with information about all manner of venues and events within an area of interest. \r\n",
        "* Such information includes venue names, locations, menus and even photos. As such, the foursquare location platform will be used as the sole data source since all the stated required information can be obtained through the API.\r\n",
        "* After finding the list of neighbourhoods, we then connect to the Foursquare API to gather information about venues inside each and every neighbourhood. For each neighbourhood, we have chosen the radius to be 100 meter.\r\n",
        "* The data retrieved from Foursquare contained information of venues within a specified distance of the longitude and latitude of the postcodes. The information obtained per venue as follows:\r\n",
        "1.  Neighbourhood\r\n",
        "2. Neighbourhood Latitude\r\n",
        "3. Neighbourhood Longitude\r\n",
        "4. Venue\r\n",
        "5. Name of the venue e.g. the name of a store or restaurant\r\n",
        "6. Venue Latitude\r\n",
        "7. Venue Longitude\r\n",
        "8. Venue Category\r\n",
        "\r\n",
        "\r\n"
      ]
    }
  ]
}