{
  "nbformat": 4,
  "nbformat_minor": 0,
  "metadata": {
    "colab": {
      "name": "Capstone Project - The Battle of Neighborhoods-Intro",
      "provenance": []
    },
    "kernelspec": {
      "name": "python3",
      "display_name": "Python 3"
    }
  },
  "cells": [
    {
      "cell_type": "markdown",
      "metadata": {
        "id": "Ps6bssUrvK7K"
      },
      "source": [
        "##INTRODUCTION:\r\n",
        "\r\n",
        "* The purpose is to help people explore various facilities around a given neighbourhood.\r\n",
        "\r\n",
        "* This will promote smart decision making and will be if much help.\r\n",
        "\r\n",
        "* Lots of people are migrating to canada and this requires a lot of research and undertanding.\r\n",
        "\r\n",
        "* This project will create analysis of features for people migrating to Scarborough ; to look for best neighbourhoods, in a comparitive study.\r\n",
        "\r\n",
        "* The features include median housing price and better school according to ratings, crime rates, road connectivity, etc.\r\n",
        "\r\n",
        "## BUSINESS PROBLEM:\r\n",
        "\r\n",
        "* Suggest a better neighbourhood\r\n",
        "\r\n",
        "* Sorted list of house in terms of housing prices in an ascending order.\r\n",
        "\r\n",
        "* Sorted list of schools in terms of location, fees, rating, reviews.\r\n",
        "\r\n",
        "## TARGET GROUPS:\r\n",
        "\r\n",
        "* New immigrants to canada.\r\n",
        "\r\n",
        "* People migrating to various states within canada.\r\n",
        "\r\n",
        "* Locals who aren't aware of the surroundings"
      ]
    }
  ]
}